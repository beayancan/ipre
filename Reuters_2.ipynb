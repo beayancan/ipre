{
 "cells": [
  {
   "cell_type": "code",
   "execution_count": 3,
   "metadata": {},
   "outputs": [],
   "source": [
    "# Chequeamos que nuestro soporte no tenga problemas\n",
    "\n",
    "import tensorflow as tf\n",
    "tf.get_logger().setLevel('ERROR')"
   ]
  },
  {
   "cell_type": "code",
   "execution_count": 1,
   "metadata": {},
   "outputs": [
    {
     "name": "stderr",
     "output_type": "stream",
     "text": [
      "Using TensorFlow backend.\n"
     ]
    }
   ],
   "source": [
    "import os, sys\n",
    "import keras\n",
    "import statistics\n",
    "import collections\n",
    "import numpy as np\n",
    "from keras.datasets import reuters"
   ]
  },
  {
   "cell_type": "code",
   "execution_count": 4,
   "metadata": {},
   "outputs": [],
   "source": [
    "# PARAMETROS\n",
    "# https://www.tensorflow.org/api_docs/python/tf/keras/datasets/reuters/load_data\n",
    "\n",
    "# Cantidad de palabras significativas del vocabulario a usar\n",
    "\n",
    "# num_words = None # incluirlas todas\n",
    "num_words = 100 # solo tomaremos las 100 primeras palabras\n",
    "skip_top = 0 # palabras que no consideraremos\n",
    "\n",
    "# máximo N° de palabras para representar a un documento\n",
    "max_len = None # todas\n",
    "# max_len = 50\n",
    "\n",
    "# Porcentaje de palabras para usar en el test set\n",
    "test_split = 0.025 # train set: 97.5%, test set: 2.5%"
   ]
  },
  {
   "cell_type": "code",
   "execution_count": 5,
   "metadata": {},
   "outputs": [
    {
     "name": "stdout",
     "output_type": "stream",
     "text": [
      "Downloading data from https://s3.amazonaws.com/text-datasets/reuters.npz\n",
      "2113536/2110848 [==============================] - 1s 0us/step\n"
     ]
    }
   ],
   "source": [
    "# Cargamos los de datos de clasificación de noticias de Reuters\n",
    "\n",
    "(x_train, y_train), (x_test, y_test) = reuters.load_data(num_words=num_words,\n",
    "                                                         maxlen=max_len,\n",
    "                                                         test_split=test_split,\n",
    "                                                         skip_top=skip_top)"
   ]
  },
  {
   "cell_type": "code",
   "execution_count": null,
   "metadata": {},
   "outputs": [],
   "source": []
  },
  {
   "cell_type": "code",
   "execution_count": null,
   "metadata": {},
   "outputs": [],
   "source": []
  }
 ],
 "metadata": {
  "kernelspec": {
   "display_name": "Python 3",
   "language": "python",
   "name": "python3"
  },
  "language_info": {
   "codemirror_mode": {
    "name": "ipython",
    "version": 3
   },
   "file_extension": ".py",
   "mimetype": "text/x-python",
   "name": "python",
   "nbconvert_exporter": "python",
   "pygments_lexer": "ipython3",
   "version": "3.6.9"
  }
 },
 "nbformat": 4,
 "nbformat_minor": 4
}
