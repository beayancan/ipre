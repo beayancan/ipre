{
 "cells": [
  {
   "cell_type": "code",
   "execution_count": 1,
   "metadata": {},
   "outputs": [],
   "source": [
    "import numpy as np"
   ]
  },
  {
   "cell_type": "code",
   "execution_count": 228,
   "metadata": {},
   "outputs": [],
   "source": [
    "X = np.array([[1,0,1,1,0],\n",
    "             [0,1,1,1,0],\n",
    "             [0,0,1,0,1]])"
   ]
  },
  {
   "cell_type": "code",
   "execution_count": 91,
   "metadata": {},
   "outputs": [],
   "source": [
    "from sklearn.decomposition import NMF\n",
    "model = NMF(n_components=3, init='random', random_state=0)"
   ]
  },
  {
   "cell_type": "code",
   "execution_count": 97,
   "metadata": {},
   "outputs": [],
   "source": [
    "W = model.fit_transform(X)\n",
    "H = model.components_"
   ]
  },
  {
   "cell_type": "code",
   "execution_count": 241,
   "metadata": {},
   "outputs": [
    {
     "data": {
      "text/plain": [
       "array([[1., 0., 1., 1., 0.],\n",
       "       [0., 1., 1., 1., 0.],\n",
       "       [0., 0., 1., 0., 1.]])"
      ]
     },
     "execution_count": 241,
     "metadata": {},
     "output_type": "execute_result"
    }
   ],
   "source": [
    "np.matrix.round(np.dot(W,H),3)"
   ]
  },
  {
   "cell_type": "code",
   "execution_count": 99,
   "metadata": {},
   "outputs": [
    {
     "name": "stdout",
     "output_type": "stream",
     "text": [
      "W: (3, 3)\n",
      "H: (3, 5)\n"
     ]
    }
   ],
   "source": [
    "print(f\"W: {np.shape(W)}\")\n",
    "print(f\"H: {np.shape(H)}\")"
   ]
  },
  {
   "cell_type": "code",
   "execution_count": 100,
   "metadata": {},
   "outputs": [
    {
     "data": {
      "text/plain": [
       "array([[0.  , 0.25, 0.  ],\n",
       "       [0.  , 0.  , 2.32],\n",
       "       [0.63, 0.  , 0.  ]])"
      ]
     },
     "execution_count": 100,
     "metadata": {},
     "output_type": "execute_result"
    }
   ],
   "source": [
    "np.matrix.round(W,2)"
   ]
  },
  {
   "cell_type": "code",
   "execution_count": 101,
   "metadata": {},
   "outputs": [
    {
     "data": {
      "text/plain": [
       "array([[0.  , 0.  , 1.59, 0.  , 1.59],\n",
       "       [3.96, 0.  , 3.96, 3.96, 0.  ],\n",
       "       [0.  , 0.43, 0.43, 0.43, 0.  ]])"
      ]
     },
     "execution_count": 101,
     "metadata": {},
     "output_type": "execute_result"
    }
   ],
   "source": [
    "np.matrix.round(H,2)"
   ]
  },
  {
   "cell_type": "code",
   "execution_count": 105,
   "metadata": {},
   "outputs": [],
   "source": [
    "A = np.random.rand(3,3)\n",
    "S = np.random.rand(3,5)"
   ]
  },
  {
   "cell_type": "code",
   "execution_count": 152,
   "metadata": {},
   "outputs": [],
   "source": [
    "def normalizar(matriz):\n",
    "    n, m = np.shape(matriz)\n",
    "    for i in range(m):\n",
    "        A[:,i] = A[:,i]/np.linalg.norm(A[:,i])\n",
    "    return matriz\n",
    "            \n",
    "def norma(columna):\n",
    "    retorno = 0\n",
    "    for cosa in columna:\n",
    "        retorno += cosa**2\n",
    "    return np.sqrt(retorno)\n",
    "\n",
    "def no_negativos(matriz):\n",
    "    n, m = np.shape(matriz)\n",
    "    for i in range(n):\n",
    "        for j in range(m):\n",
    "            if A[i][j] < 0:\n",
    "                A[i][j] = 0\n",
    "    return matriz"
   ]
  },
  {
   "cell_type": "code",
   "execution_count": 139,
   "metadata": {},
   "outputs": [
    {
     "data": {
      "text/plain": [
       "array([[0.1220032 , 0.35440706, 0.32720698],\n",
       "       [0.55740239, 0.42532828, 0.92469341],\n",
       "       [0.37215667, 0.1084151 , 0.46871878]])"
      ]
     },
     "execution_count": 139,
     "metadata": {},
     "output_type": "execute_result"
    }
   ],
   "source": [
    "A"
   ]
  },
  {
   "cell_type": "code",
   "execution_count": 156,
   "metadata": {},
   "outputs": [],
   "source": [
    "maximo = 5\n",
    "mu = 0.1\n",
    "constante = 0"
   ]
  },
  {
   "cell_type": "code",
   "execution_count": 157,
   "metadata": {},
   "outputs": [
    {
     "data": {
      "text/plain": [
       "0.46408279221344106"
      ]
     },
     "execution_count": 157,
     "metadata": {},
     "output_type": "execute_result"
    }
   ],
   "source": [
    "0.1220032**2 + 0.55740239**2 + 0.37215667**2"
   ]
  },
  {
   "cell_type": "code",
   "execution_count": 165,
   "metadata": {},
   "outputs": [
    {
     "ename": "ValueError",
     "evalue": "shapes (3,3) and (5,3) not aligned: 3 (dim 1) != 5 (dim 0)",
     "output_type": "error",
     "traceback": [
      "\u001b[0;31m---------------------------------------------------------------------------\u001b[0m",
      "\u001b[0;31mValueError\u001b[0m                                Traceback (most recent call last)",
      "\u001b[0;32m<ipython-input-165-0f38d46a1ad8>\u001b[0m in \u001b[0;36m<module>\u001b[0;34m\u001b[0m\n\u001b[1;32m      2\u001b[0m \u001b[0mS_t\u001b[0m \u001b[0;34m=\u001b[0m \u001b[0mnp\u001b[0m\u001b[0;34m.\u001b[0m\u001b[0mtranspose\u001b[0m\u001b[0;34m(\u001b[0m\u001b[0mS\u001b[0m\u001b[0;34m)\u001b[0m\u001b[0;34m\u001b[0m\u001b[0;34m\u001b[0m\u001b[0m\n\u001b[1;32m      3\u001b[0m \u001b[0;32mfor\u001b[0m \u001b[0mi\u001b[0m \u001b[0;32min\u001b[0m \u001b[0mrange\u001b[0m\u001b[0;34m(\u001b[0m\u001b[0mmaximo\u001b[0m\u001b[0;34m)\u001b[0m\u001b[0;34m:\u001b[0m\u001b[0;34m\u001b[0m\u001b[0;34m\u001b[0m\u001b[0m\n\u001b[0;32m----> 4\u001b[0;31m     \u001b[0mdelta\u001b[0m \u001b[0;34m=\u001b[0m \u001b[0mA_t\u001b[0m \u001b[0;34m-\u001b[0m \u001b[0mnp\u001b[0m\u001b[0;34m.\u001b[0m\u001b[0mdot\u001b[0m\u001b[0;34m(\u001b[0m\u001b[0mmu\u001b[0m\u001b[0;34m*\u001b[0m\u001b[0;34m(\u001b[0m\u001b[0mnp\u001b[0m\u001b[0;34m.\u001b[0m\u001b[0mdot\u001b[0m\u001b[0;34m(\u001b[0m\u001b[0mA_t\u001b[0m\u001b[0;34m,\u001b[0m \u001b[0mS_t\u001b[0m\u001b[0;34m)\u001b[0m \u001b[0;34m-\u001b[0m \u001b[0mX\u001b[0m\u001b[0;34m)\u001b[0m\u001b[0;34m,\u001b[0m \u001b[0mnp\u001b[0m\u001b[0;34m.\u001b[0m\u001b[0mtranspose\u001b[0m\u001b[0;34m(\u001b[0m\u001b[0mS_t\u001b[0m\u001b[0;34m)\u001b[0m\u001b[0;34m)\u001b[0m\u001b[0;34m\u001b[0m\u001b[0;34m\u001b[0m\u001b[0m\n\u001b[0m\u001b[1;32m      5\u001b[0m     \u001b[0mdelta\u001b[0m \u001b[0;34m=\u001b[0m \u001b[0mno_negativos\u001b[0m\u001b[0;34m(\u001b[0m\u001b[0mdelta\u001b[0m\u001b[0;34m)\u001b[0m\u001b[0;34m\u001b[0m\u001b[0;34m\u001b[0m\u001b[0m\n\u001b[1;32m      6\u001b[0m     \u001b[0mdelta\u001b[0m \u001b[0;34m=\u001b[0m \u001b[0mnormalizar\u001b[0m\u001b[0;34m(\u001b[0m\u001b[0mdelta\u001b[0m\u001b[0;34m)\u001b[0m\u001b[0;34m\u001b[0m\u001b[0;34m\u001b[0m\u001b[0m\n",
      "\u001b[0;32m<__array_function__ internals>\u001b[0m in \u001b[0;36mdot\u001b[0;34m(*args, **kwargs)\u001b[0m\n",
      "\u001b[0;31mValueError\u001b[0m: shapes (3,3) and (5,3) not aligned: 3 (dim 1) != 5 (dim 0)"
     ]
    }
   ],
   "source": [
    "A_t = A\n",
    "S_t = np.transpose(S)\n",
    "for i in range(maximo):\n",
    "    delta = A_t - np.dot(mu*(np.dot(A_t, S_t) - X), np.transpose(S_t))\n",
    "    delta = no_negativos(delta)\n",
    "    delta = normalizar(delta)\n",
    "    A_t = delta\n",
    "    # St+1 = St ((At+1)T X) ./ ((At+1)T (At+1)St + λ)\n",
    "    numerador = np.dot(np.transpose(A_t), X)\n",
    "    denominador = np.dot(np.transpose(A_t), np.dot(A_t, S_t)) + constante\n",
    "    derecha = numerador / denominador\n",
    "    S_t = np.dot(S_t, derecha)\n",
    "    \n",
    "    print(denominador)"
   ]
  },
  {
   "cell_type": "code",
   "execution_count": 164,
   "metadata": {},
   "outputs": [
    {
     "data": {
      "text/plain": [
       "array([[1., 1., 1.],\n",
       "       [1., 1., 1.],\n",
       "       [1., 1., 1.]])"
      ]
     },
     "execution_count": 164,
     "metadata": {},
     "output_type": "execute_result"
    }
   ],
   "source": [
    "A/A"
   ]
  },
  {
   "cell_type": "code",
   "execution_count": 166,
   "metadata": {},
   "outputs": [
    {
     "data": {
      "text/plain": [
       "array([[1, 0, 1, 1, 0],\n",
       "       [0, 1, 1, 1, 0],\n",
       "       [0, 0, 1, 0, 1]])"
      ]
     },
     "execution_count": 166,
     "metadata": {},
     "output_type": "execute_result"
    }
   ],
   "source": [
    "# X = UV\n",
    "\n",
    "X"
   ]
  },
  {
   "cell_type": "code",
   "execution_count": 167,
   "metadata": {},
   "outputs": [],
   "source": [
    "def generar_matrices(X, k):\n",
    "    n,m = np.shape(X)\n",
    "    U = np.random.rand(n,k)\n",
    "    V = np.transpose(np.random.rand(k,m))\n",
    "    return U,V"
   ]
  },
  {
   "cell_type": "code",
   "execution_count": 242,
   "metadata": {},
   "outputs": [],
   "source": [
    "U,V = generar_matrices(X,3)\n"
   ]
  },
  {
   "cell_type": "code",
   "execution_count": 227,
   "metadata": {},
   "outputs": [
    {
     "data": {
      "text/plain": [
       "array([[0., 0., 2., 0., 2.],\n",
       "       [4., 0., 4., 4., 0.],\n",
       "       [0., 0., 0., 0., 0.]])"
      ]
     },
     "execution_count": 227,
     "metadata": {},
     "output_type": "execute_result"
    }
   ],
   "source": [
    "W = model.fit_transform(X)\n",
    "H = model.components_\n",
    "np.round(H)"
   ]
  },
  {
   "cell_type": "code",
   "execution_count": 280,
   "metadata": {},
   "outputs": [],
   "source": [
    "def ponderadores_U(X,U,V):\n",
    "    \"\"\"\n",
    "    Función que recibe la matriz primaria X de n x m,\n",
    "    la matriz U de n x k y la matriz V de m x k\n",
    "    \n",
    "    Calcula el ponderador para la actualizacion de la matriz U\n",
    "    \n",
    "    Retorna la matriz que ponderará a la matriz U\n",
    "    \"\"\"\n",
    "    numerador = np.dot(X,V)\n",
    "    denominador = np.dot(U,np.dot(np.transpose(V),V))\n",
    "    return numerador/denominador\n",
    "\n",
    "def ponderadores_V(X,U,V):\n",
    "    \"\"\"\n",
    "    Función que recibe la matriz primaria X de n x m,\n",
    "    la matriz U de n x k y la matriz V de m x k\n",
    "    \n",
    "    Calcula el ponderador para la actualizacion de la matriz V\n",
    "    \n",
    "    Retorna la matriz que ponderará a la matriz V\n",
    "    \"\"\"\n",
    "    numerador = np.dot(np.transpose(X),U)\n",
    "    denominador = np.dot(V,np.dot(np.transpose(U),U))\n",
    "    return numerador/denominador\n",
    "\n",
    "def actualizar_matriz(matriz, ponderador):\n",
    "    \"\"\"\n",
    "    Función que recibe la matriz primaria de n x m y su\n",
    "    matriz por la que será ponderada de las mismas dimensiones\n",
    "    \n",
    "    Pondera cada entrada (i,j) de la matriz por la respectiva\n",
    "    casilla de la matriz ponderadora\n",
    "    \n",
    "    Retorna la matriz ya ponderada\n",
    "    \"\"\"\n",
    "    a,b = np.shape(matriz), np.shape(ponderador)\n",
    "    if (a != b):\n",
    "        print(f\"Error de dimensiones entre matriz: {a} y ponderador:{b}\")\n",
    "    n,m = a\n",
    "    for i in range(n):\n",
    "        for j in range(m):\n",
    "            matriz[i,j] = matriz[i,j]*ponderador[i,j]\n",
    "    return matriz\n",
    "\n",
    "def normalizar_matrices(U,V):\n",
    "    \"\"\"\n",
    "    Función que recibe la matriz U de n x k\n",
    "    y la matriz V de m x k\n",
    "    \n",
    "    Normaliza las columnas de ambas matrices según la norma\n",
    "    de la matriz U\n",
    "    \n",
    "    Retorna las matrices actualizadas\n",
    "    \"\"\"\n",
    "    n, m = np.shape(U)\n",
    "    for i in range(m):\n",
    "        norma = np.linalg.norm(U[:,i])\n",
    "        #V[:,i] = V[:,i]*norma\n",
    "        U[:,i] = U[:,i]/norma\n",
    "    return U,V"
   ]
  },
  {
   "cell_type": "code",
   "execution_count": 299,
   "metadata": {},
   "outputs": [],
   "source": [
    "U,V = generar_matrices(X,4)"
   ]
  },
  {
   "cell_type": "code",
   "execution_count": 308,
   "metadata": {},
   "outputs": [],
   "source": [
    "def nueva_funcion(X,U,V):\n",
    "    U_t, V_t = U, V\n",
    "    for i in range(100000):\n",
    "        ponderador_U = ponderadores_U(X,U_t,V_t)\n",
    "        ponderador_V = ponderadores_V(X,U_t,V_t)\n",
    "        U_t = actualizar_matriz(U_t, ponderador_U)\n",
    "        V_t = actualizar_matriz(V_t, ponderador_V)\n",
    "        U_t, V_t = normalizar_matrices(U_t,V_t)\n",
    "\n",
    "        error = np.linalg.norm(np.dot(U_t, np.transpose(V_t)) - X)\n",
    "\n",
    "        if error < 0.001:\n",
    "            return(\"Fin para: \" + str(i))\n",
    "            break\n",
    "    return(\"Excede\")"
   ]
  },
  {
   "cell_type": "code",
   "execution_count": 311,
   "metadata": {},
   "outputs": [
    {
     "name": "stdout",
     "output_type": "stream",
     "text": [
      "Fin para: 2955\n",
      "Fin para: 8862\n",
      "Fin para: 2510\n",
      "Fin para: 6586\n",
      "Fin para: 2697\n",
      "Fin para: 3355\n",
      "Fin para: 2203\n",
      "Fin para: 3431\n",
      "Fin para: 2155\n",
      "Fin para: 4547\n"
     ]
    }
   ],
   "source": [
    "for _ in range(10):\n",
    "    U,V = generar_matrices(X,4)\n",
    "    print(nueva_funcion(X,U,V))"
   ]
  },
  {
   "cell_type": "code",
   "execution_count": 313,
   "metadata": {},
   "outputs": [
    {
     "name": "stdout",
     "output_type": "stream",
     "text": [
      "Fin para: 3072\n",
      "Fin para: 3234\n",
      "Fin para: 3244\n",
      "Fin para: 3239\n",
      "Fin para: 3217\n",
      "Fin para: 2805\n",
      "Fin para: 3226\n",
      "Fin para: 3229\n",
      "Fin para: 3198\n",
      "Fin para: 3243\n"
     ]
    }
   ],
   "source": [
    "for _ in range(10):\n",
    "    U,V = generar_matrices(X,3)\n",
    "    print(nueva_funcion(X,U,V))"
   ]
  },
  {
   "cell_type": "code",
   "execution_count": 314,
   "metadata": {},
   "outputs": [
    {
     "name": "stdout",
     "output_type": "stream",
     "text": [
      "Fin para: 9235\n",
      "Fin para: 6055\n",
      "Fin para: 2561\n",
      "Fin para: 7353\n",
      "Fin para: 7568\n",
      "Fin para: 5400\n",
      "Fin para: 8411\n",
      "Fin para: 17942\n",
      "Fin para: 6604\n",
      "Fin para: 6647\n"
     ]
    }
   ],
   "source": [
    "for _ in range(10):\n",
    "    U,V = generar_matrices(X,5)\n",
    "    print(nueva_funcion(X,U,V))"
   ]
  },
  {
   "cell_type": "code",
   "execution_count": 310,
   "metadata": {},
   "outputs": [
    {
     "data": {
      "text/plain": [
       "array([[1.   , 0.001, 1.   , 1.   , 0.   ],\n",
       "       [0.   , 1.   , 1.   , 1.   , 0.   ],\n",
       "       [0.   , 0.   , 1.   , 0.001, 1.   ]])"
      ]
     },
     "execution_count": 310,
     "metadata": {},
     "output_type": "execute_result"
    }
   ],
   "source": [
    "np.round(np.dot(U_t, np.transpose(V_t)),3)"
   ]
  },
  {
   "cell_type": "code",
   "execution_count": 319,
   "metadata": {},
   "outputs": [
    {
     "name": "stdout",
     "output_type": "stream",
     "text": [
      "Fin para: 4665\n",
      "Fin para: 3873\n",
      "Fin para: 2500\n",
      "Fin para: 6411\n",
      "Fin para: 8938\n",
      "Fin para: 5104\n",
      "Fin para: 3573\n",
      "Fin para: 3668\n",
      "Fin para: 2662\n",
      "Fin para: 5729\n"
     ]
    }
   ],
   "source": [
    "for _ in range(10):\n",
    "    U,V = generar_matrices(X,4)\n",
    "    \n",
    "    print(nueva_funcion(X,U*0.2,V*0.2))"
   ]
  },
  {
   "cell_type": "code",
   "execution_count": null,
   "metadata": {},
   "outputs": [],
   "source": []
  }
 ],
 "metadata": {
  "kernelspec": {
   "display_name": "Python 3",
   "language": "python",
   "name": "python3"
  },
  "language_info": {
   "codemirror_mode": {
    "name": "ipython",
    "version": 3
   },
   "file_extension": ".py",
   "mimetype": "text/x-python",
   "name": "python",
   "nbconvert_exporter": "python",
   "pygments_lexer": "ipython3",
   "version": "3.7.4"
  }
 },
 "nbformat": 4,
 "nbformat_minor": 2
}
