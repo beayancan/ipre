{
 "cells": [
  {
   "cell_type": "code",
   "execution_count": 1,
   "metadata": {},
   "outputs": [],
   "source": [
    "import numpy as np\n",
    "from sklearn.decomposition import NMF"
   ]
  },
  {
   "cell_type": "code",
   "execution_count": null,
   "metadata": {},
   "outputs": [],
   "source": []
  },
  {
   "cell_type": "code",
   "execution_count": 2,
   "metadata": {},
   "outputs": [],
   "source": [
    "def generar_matrices(X, k):\n",
    "    n,m = np.shape(X)\n",
    "    U = np.random.rand(n,k)\n",
    "    V = np.transpose(np.random.rand(k,m))\n",
    "    return U,V"
   ]
  },
  {
   "cell_type": "code",
   "execution_count": 3,
   "metadata": {},
   "outputs": [],
   "source": [
    "def ponderadores_U(X,U,V):\n",
    "    \"\"\"\n",
    "    Función que recibe la matriz primaria X de n x m,\n",
    "    la matriz U de n x k y la matriz V de m x k\n",
    "    \n",
    "    Calcula el ponderador para la actualizacion de la matriz U\n",
    "    \n",
    "    Retorna la matriz que ponderará a la matriz U\n",
    "    \"\"\"\n",
    "    numerador = np.dot(X,V)\n",
    "    denominador = np.dot(U,np.dot(np.transpose(V),V))\n",
    "    return numerador/denominador\n",
    "\n",
    "def ponderadores_V(X,U,V):\n",
    "    \"\"\"\n",
    "    Función que recibe la matriz primaria X de n x m,\n",
    "    la matriz U de n x k y la matriz V de m x k\n",
    "    \n",
    "    Calcula el ponderador para la actualizacion de la matriz V\n",
    "    \n",
    "    Retorna la matriz que ponderará a la matriz V\n",
    "    \"\"\"\n",
    "    numerador = np.dot(np.transpose(X),U)\n",
    "    denominador = np.dot(V,np.dot(np.transpose(U),U))\n",
    "    return numerador/denominador\n",
    "\n",
    "def actualizar_matriz(matriz, ponderador):\n",
    "    \"\"\"\n",
    "    Función que recibe la matriz primaria de n x m y su\n",
    "    matriz por la que será ponderada de las mismas dimensiones\n",
    "    \n",
    "    Pondera cada entrada (i,j) de la matriz por la respectiva\n",
    "    casilla de la matriz ponderadora\n",
    "    \n",
    "    Retorna la matriz ya ponderada\n",
    "    \"\"\"\n",
    "    a,b = np.shape(matriz), np.shape(ponderador)\n",
    "    if (a != b):\n",
    "        print(f\"Error de dimensiones entre matriz: {a} y ponderador:{b}\")\n",
    "    n,m = a\n",
    "    for i in range(n):\n",
    "        for j in range(m):\n",
    "            matriz[i][j] = matriz[i][j]*ponderador[i][j]\n",
    "    return matriz\n",
    "\n",
    "def normalizar_matrices_2(matriz_U, matriz_V):\n",
    "    \n",
    "    matriz_V = np.transpose(matriz_V)\n",
    "    \n",
    "    n_u, m_u = np.shape(matriz_U)\n",
    "    n_v, m_v = np.shape(matriz_V)\n",
    "    \n",
    "    for j in range(m_u):\n",
    "        norma = np.linalg.norm(matriz_U[:,j])\n",
    "        if norma < 0.00001:\n",
    "            print(\"Problema\")\n",
    "            \n",
    "        for i in range(n_v):\n",
    "            matriz_V[i][j] = matriz_V[i][j]*norma\n",
    "        \n",
    "        for i in range(n_u):\n",
    "            matriz_U[i][j] = matriz_U[i][j]/norma\n",
    "        \n",
    "    return matriz_U, np.transpose(matriz_V)"
   ]
  },
  {
   "cell_type": "code",
   "execution_count": 4,
   "metadata": {},
   "outputs": [],
   "source": [
    "def nueva_funcion(X,U,V,maximo=10000, tolerancia=0.01):\n",
    "    U_t, V_t = np.matrix.copy(U), np.matrix.copy(V)\n",
    "    for i in range(maximo):\n",
    "        ponderador_U = ponderadores_U(X,U_t,V_t)\n",
    "        ponderador_V = ponderadores_V(X,U_t,V_t)\n",
    "        U_t = actualizar_matriz(U_t, ponderador_U)\n",
    "        V_t = actualizar_matriz(V_t, ponderador_V)\n",
    "        U_t, V_t = normalizar_matrices_2(U_t,V_t)\n",
    "\n",
    "        error = np.linalg.norm(np.dot(U_t, np.transpose(V_t)) - X)\n",
    "\n",
    "        if error < tolerancia:\n",
    "            print(\"Fin para: \" + str(i))\n",
    "            excede = False\n",
    "            break\n",
    "    return U_t, V_t"
   ]
  },
  {
   "cell_type": "code",
   "execution_count": 5,
   "metadata": {},
   "outputs": [],
   "source": [
    "X = np.array([[1,0,1,1,0],\n",
    "             [0,1,1,1,0],\n",
    "             [0,0,1,0,1]])"
   ]
  },
  {
   "cell_type": "code",
   "execution_count": 6,
   "metadata": {},
   "outputs": [],
   "source": [
    "model = NMF(n_components=3, init='random', random_state=0)"
   ]
  },
  {
   "cell_type": "code",
   "execution_count": 7,
   "metadata": {},
   "outputs": [],
   "source": [
    "W = model.fit_transform(X)\n",
    "H = model.components_"
   ]
  },
  {
   "cell_type": "code",
   "execution_count": 8,
   "metadata": {},
   "outputs": [
    {
     "name": "stdout",
     "output_type": "stream",
     "text": [
      "[[0.    0.    1.594 0.    1.594]\n",
      " [3.962 0.    3.962 3.962 0.   ]\n",
      " [0.    0.43  0.43  0.43  0.   ]]\n",
      "[[0.    0.252 0.   ]\n",
      " [0.    0.    2.324]\n",
      " [0.628 0.    0.   ]]\n",
      "[[1. 0. 1. 1. 0.]\n",
      " [0. 1. 1. 1. 0.]\n",
      " [0. 0. 1. 0. 1.]]\n"
     ]
    }
   ],
   "source": [
    "print(np.round(H,3))\n",
    "print(np.round(W,3))\n",
    "print(np.round(np.dot(W,H),3))"
   ]
  },
  {
   "cell_type": "code",
   "execution_count": 9,
   "metadata": {},
   "outputs": [],
   "source": [
    "W_new, H_new = normalizar_matrices_2(W,H)"
   ]
  },
  {
   "cell_type": "code",
   "execution_count": 10,
   "metadata": {},
   "outputs": [
    {
     "name": "stdout",
     "output_type": "stream",
     "text": [
      "[[0. 0. 1. 0. 1.]\n",
      " [1. 0. 1. 1. 0.]\n",
      " [0. 1. 1. 1. 0.]]\n",
      "[[0. 1. 0.]\n",
      " [0. 0. 1.]\n",
      " [1. 0. 0.]]\n",
      "[[1. 0. 1. 1. 0.]\n",
      " [0. 1. 1. 1. 0.]\n",
      " [0. 0. 1. 0. 1.]]\n"
     ]
    }
   ],
   "source": [
    "print(np.round(H,3))\n",
    "print(np.round(W,3))\n",
    "print(np.round(np.dot(W,H),3))"
   ]
  },
  {
   "cell_type": "code",
   "execution_count": 11,
   "metadata": {},
   "outputs": [],
   "source": [
    "maximo = 20000\n",
    "mu = 1\n",
    "constante = 0"
   ]
  },
  {
   "cell_type": "code",
   "execution_count": 12,
   "metadata": {},
   "outputs": [],
   "source": [
    "A,S = generar_matrices(X,k=3)"
   ]
  },
  {
   "cell_type": "code",
   "execution_count": 13,
   "metadata": {},
   "outputs": [
    {
     "name": "stdout",
     "output_type": "stream",
     "text": [
      "Fin para: 277\n"
     ]
    }
   ],
   "source": [
    "U_fin, V_fin = nueva_funcion(X, A, S)"
   ]
  },
  {
   "cell_type": "code",
   "execution_count": 14,
   "metadata": {},
   "outputs": [
    {
     "name": "stdout",
     "output_type": "stream",
     "text": [
      "Fin para: 275\n",
      "Fin para: 274\n",
      "Fin para: 280\n",
      "Fin para: 310\n",
      "Fin para: 293\n",
      "Fin para: 289\n",
      "Fin para: 307\n",
      "Fin para: 314\n",
      "Fin para: 307\n",
      "Fin para: 308\n"
     ]
    }
   ],
   "source": [
    "for _ in range(10):\n",
    "    U,V = generar_matrices(X,3)\n",
    "    nueva_funcion(X,U,V,50000)"
   ]
  },
  {
   "cell_type": "code",
   "execution_count": 17,
   "metadata": {},
   "outputs": [
    {
     "name": "stdout",
     "output_type": "stream",
     "text": [
      "Fin para: 6477\n"
     ]
    }
   ],
   "source": [
    "U,V = generar_matrices(X,3)\n",
    "a,b = nueva_funcion(X,U,V,50000,tolerancia=0.0005)"
   ]
  },
  {
   "cell_type": "code",
   "execution_count": 18,
   "metadata": {},
   "outputs": [
    {
     "name": "stdout",
     "output_type": "stream",
     "text": [
      "[[0. 0. 1.]\n",
      " [1. 0. 0.]\n",
      " [0. 1. 0.]]\n"
     ]
    }
   ],
   "source": [
    "print(np.round(a,3))"
   ]
  },
  {
   "cell_type": "code",
   "execution_count": 22,
   "metadata": {},
   "outputs": [
    {
     "name": "stdout",
     "output_type": "stream",
     "text": [
      "[[1. 0. 1. 1. 0.]\n",
      " [0. 1. 1. 1. 0.]\n",
      " [0. 0. 1. 0. 1.]]\n"
     ]
    }
   ],
   "source": [
    "print(np.round(np.dot(a,np.transpose(b)),3))"
   ]
  },
  {
   "cell_type": "code",
   "execution_count": null,
   "metadata": {},
   "outputs": [],
   "source": []
  }
 ],
 "metadata": {
  "kernelspec": {
   "display_name": "Python 3",
   "language": "python",
   "name": "python3"
  },
  "language_info": {
   "codemirror_mode": {
    "name": "ipython",
    "version": 3
   },
   "file_extension": ".py",
   "mimetype": "text/x-python",
   "name": "python",
   "nbconvert_exporter": "python",
   "pygments_lexer": "ipython3",
   "version": "3.7.4"
  }
 },
 "nbformat": 4,
 "nbformat_minor": 2
}
