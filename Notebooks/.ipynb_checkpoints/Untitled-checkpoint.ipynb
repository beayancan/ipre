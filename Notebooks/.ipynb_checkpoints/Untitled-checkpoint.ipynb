{
 "cells": [
  {
   "cell_type": "code",
   "execution_count": 1,
   "metadata": {},
   "outputs": [],
   "source": [
    "import numpy as np"
   ]
  },
  {
   "cell_type": "code",
   "execution_count": 2,
   "metadata": {},
   "outputs": [],
   "source": [
    "def normalizar(matriz):\n",
    "    n, m = np.shape(matriz)\n",
    "    for j in range(m):\n",
    "        norma = np.linalg.norm(matriz[:,j])\n",
    "        if norma < 0.001:\n",
    "            print(\"Problema norma\")\n",
    "            break\n",
    "        for i in range(n):\n",
    "            matriz[i][j] = matriz[i][j]/norma\n",
    "    return matriz\n",
    "\n",
    "def no_negativos(matriz):\n",
    "    n, m = np.shape(matriz)\n",
    "    for i in range(n):\n",
    "        for j in range(m):\n",
    "            if matriz[i][j] < 0:\n",
    "                matriz[i][j] = 0\n",
    "    return matriz\n",
    "\n",
    "def generar_matrices(X, k):\n",
    "    n,m = np.shape(X)\n",
    "    U = np.random.rand(n,k)\n",
    "    V = np.random.rand(k,m)\n",
    "    return U,V"
   ]
  },
  {
   "cell_type": "markdown",
   "metadata": {},
   "source": [
    "<img src=\"imagen.png\"\n",
    "     style=\"float: left; margin-right: 10px;\" />"
   ]
  },
  {
   "cell_type": "code",
   "execution_count": 14,
   "metadata": {},
   "outputs": [],
   "source": [
    "def nmf_otra_version(A_t,S_t,X, maximo=5000, tolerancia=0.05):\n",
    "    A_t = np.matrix.copy(A)\n",
    "    S_t = np.matrix.copy(S)\n",
    "    mu=0.1\n",
    "    constante = 0\n",
    "    excede = True\n",
    "    for i in range(maximo):\n",
    "        delta = A_t - mu*np.dot(np.dot(A_t, S_t) - X, np.transpose(S_t))\n",
    "        delta = no_negativos(delta)\n",
    "        if np.linalg.norm(delta) < tolerancia:\n",
    "            print(\"Problema delta\")\n",
    "            break\n",
    "        delta = normalizar(delta)\n",
    "        A_t = delta\n",
    "        # St+1 = St ((At+1)T X) ./ ((At+1)T (At+1)St + λ)\n",
    "        numerador = np.dot(np.transpose(A_t), X)\n",
    "        denominador = np.dot(np.transpose(A_t), np.dot(A_t, S_t))\n",
    "        if np.linalg.norm(denominador) < tolerancia:\n",
    "            print(\"Problema denominador\")\n",
    "            break\n",
    "        derecha = numerador / denominador\n",
    "\n",
    "        ns, ms = np.shape(S_t)\n",
    "        for j in range(ns):\n",
    "            for k in range(ms):\n",
    "                S_t[j,k] = S_t[j,k] *derecha[j,k]\n",
    "\n",
    "        error = np.linalg.norm(np.dot(A_t, S_t) - X)\n",
    "        if error < tolerancia:\n",
    "            print(\"Fin:\", i, np.linalg.norm(np.dot(A_t, S_t) - X))\n",
    "            excede = False\n",
    "            break\n",
    "    if excede:\n",
    "        print(f\"Excede: {np.linalg.norm(np.dot(A_t, S_t) - X)}\")\n",
    "    return A_t, S_t"
   ]
  },
  {
   "cell_type": "code",
   "execution_count": 15,
   "metadata": {},
   "outputs": [],
   "source": [
    "X = np.array([[1,0,1,1,0],\n",
    "             [0,1,1,1,0],\n",
    "             [0,0,1,0,1]])"
   ]
  },
  {
   "cell_type": "code",
   "execution_count": 21,
   "metadata": {},
   "outputs": [
    {
     "name": "stdout",
     "output_type": "stream",
     "text": [
      "Fin: 104 4.999090629443145e-05\n",
      "Fin: 113 4.527377736464551e-05\n",
      "Fin: 101 4.82707533010443e-05\n"
     ]
    },
    {
     "name": "stderr",
     "output_type": "stream",
     "text": [
      "/Library/Frameworks/Python.framework/Versions/3.7/lib/python3.7/site-packages/ipykernel_launcher.py:21: RuntimeWarning: invalid value encountered in true_divide\n"
     ]
    },
    {
     "name": "stdout",
     "output_type": "stream",
     "text": [
      "Excede: nan\n",
      "Fin: 114 4.8256551511487155e-05\n",
      "Fin: 103 4.8856394643502584e-05\n",
      "Fin: 98 4.811085467015984e-05\n",
      "Fin: 103 4.760019459906253e-05\n",
      "Fin: 116 4.7913591611511096e-05\n",
      "Fin: 119 4.77666184477927e-05\n"
     ]
    }
   ],
   "source": [
    "for i in range(10):\n",
    "    A, S = generar_matrices(X, 3)\n",
    "    A_fin, S_fin = nmf_otra_version(A,S,X,maximo=10000,tolerancia=0.00005)"
   ]
  },
  {
   "cell_type": "code",
   "execution_count": 6,
   "metadata": {},
   "outputs": [
    {
     "data": {
      "text/plain": [
       "array([[0.60492345, 0.85353418, 0.32291407],\n",
       "       [0.62926386, 0.15039288, 0.40712368],\n",
       "       [0.2798226 , 0.01922161, 0.86027562]])"
      ]
     },
     "execution_count": 6,
     "metadata": {},
     "output_type": "execute_result"
    }
   ],
   "source": [
    "A"
   ]
  },
  {
   "cell_type": "code",
   "execution_count": 7,
   "metadata": {},
   "outputs": [],
   "source": [
    "A_test = np.array([[0.7988695 , 0.07926286, 0.61141188],\n",
    "                   [0.36642043, 0.41755597, 0.95047799],\n",
    "                   [0.98473804, 0.69957884, 0.06751941]])\n",
    "\n",
    "S_test = np.array([[0.86503873, 0.02321519, 0.01549647, 0.9831519 , 0.74850712],\n",
    "                   [0.41433409, 0.43860415, 0.57946787, 0.86061983, 0.45792213],\n",
    "                   [0.04890716, 0.41340734, 0.38943886, 0.00201974, 0.15377762]])"
   ]
  },
  {
   "cell_type": "code",
   "execution_count": 8,
   "metadata": {},
   "outputs": [
    {
     "name": "stdout",
     "output_type": "stream",
     "text": [
      "Excede: 0.34647754523649477\n",
      "[[0.882 0.119 0.913 0.91  0.07 ]\n",
      " [0.119 0.882 0.913 0.91  0.07 ]\n",
      " [0.025 0.025 0.913 0.045 0.888]]\n"
     ]
    }
   ],
   "source": [
    "a,b = nmf_otra_version(A_test,S_test,X,tolerancia=0.001)\n",
    "print(np.round(np.dot(a,b),3))"
   ]
  },
  {
   "cell_type": "code",
   "execution_count": 9,
   "metadata": {},
   "outputs": [
    {
     "name": "stdout",
     "output_type": "stream",
     "text": [
      "[[0.00000000e+000 8.90713113e-001 7.51759404e-001 8.09661715e-001\n",
      "  0.00000000e+000]\n",
      " [8.90713113e-001 0.00000000e+000 7.51759404e-001 8.09661715e-001\n",
      "  0.00000000e+000]\n",
      " [0.00000000e+000 0.00000000e+000 8.76509042e-001 4.94065646e-324\n",
      "  8.93902104e-001]]\n"
     ]
    }
   ],
   "source": [
    "print(S_fin)"
   ]
  },
  {
   "cell_type": "code",
   "execution_count": null,
   "metadata": {},
   "outputs": [],
   "source": []
  }
 ],
 "metadata": {
  "kernelspec": {
   "display_name": "Python 3",
   "language": "python",
   "name": "python3"
  },
  "language_info": {
   "codemirror_mode": {
    "name": "ipython",
    "version": 3
   },
   "file_extension": ".py",
   "mimetype": "text/x-python",
   "name": "python",
   "nbconvert_exporter": "python",
   "pygments_lexer": "ipython3",
   "version": "3.7.4"
  }
 },
 "nbformat": 4,
 "nbformat_minor": 2
}
