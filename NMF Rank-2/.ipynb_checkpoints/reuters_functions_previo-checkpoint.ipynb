{
 "cells": [
  {
   "cell_type": "markdown",
   "metadata": {
    "colab_type": "text",
    "id": "9FOnO1SD-pzs"
   },
   "source": [
    "# Funciones NMF Rank-2 Reuters"
   ]
  },
  {
   "cell_type": "markdown",
   "metadata": {},
   "source": [
    "## Configuracion\n",
    "### Librerías"
   ]
  },
  {
   "cell_type": "code",
   "execution_count": 1,
   "metadata": {
    "colab": {},
    "colab_type": "code",
    "id": "HEb5CzWsY-xO"
   },
   "outputs": [],
   "source": [
    "import tensorflow as tf\n",
    "tf.get_logger().setLevel('ERROR')"
   ]
  },
  {
   "cell_type": "code",
   "execution_count": 2,
   "metadata": {
    "colab": {
     "base_uri": "https://localhost:8080/",
     "height": 35
    },
    "colab_type": "code",
    "id": "hb3X252TY0H2",
    "outputId": "1bb6d096-4898-4c6d-995a-462ac45e6fc1"
   },
   "outputs": [
    {
     "name": "stderr",
     "output_type": "stream",
     "text": [
      "Using TensorFlow backend.\n"
     ]
    }
   ],
   "source": [
    "# importamos las liberías que vamos a utilizar\n",
    "# herramientas y el dataset\n",
    "\n",
    "import os, sys\n",
    "import keras\n",
    "import statistics\n",
    "import collections\n",
    "import numpy as np\n",
    "from keras.datasets import reuters"
   ]
  },
  {
   "cell_type": "code",
   "execution_count": null,
   "metadata": {},
   "outputs": [],
   "source": [
    "def ejemplo():\n",
    "  return np.pi"
   ]
  },
  {
   "cell_type": "code",
   "execution_count": 9,
   "metadata": {
    "colab": {},
    "colab_type": "code",
    "id": "zjKzIVgY2M2U"
   },
   "outputs": [],
   "source": [
    "# Primero eliminaremos las referencias a elementos que no se encuentran\n",
    "# dentro de las 1000 palabras más usadas en el vocabulario\n",
    "# ademas de las entradas reservadas\n",
    "\n",
    "  # Eliminamos\n",
    "  # 0: '-PAD-'\n",
    "  # 1: '-START-'\n",
    "  # 2: '-UNK-'\n",
    "  # 12: '3'\n",
    "  # 17: 'reuter'\n",
    "\n",
    "def filtrar_relevante(arreglo, por_eliminar=[0,1,2]):\n",
    "  \"\"\"\n",
    "  Borra las palabras que pertenecen a los indices del array por_eliminar\n",
    "  \"\"\"\n",
    "  return list(filter(lambda x: x not in por_eliminar, arreglo))\n",
    "\n",
    "def eliminar_reservadas(x_array):\n",
    "  \"\"\"\n",
    "  Eliminamos las entradas reservadas y entradas inutiles\n",
    "  retorna el contenido homogeneo del doc\n",
    "  \"\"\"\n",
    "  por_eliminar = [0,1,2,12,17]\n",
    "  largo_test, = x_array.shape\n",
    "  for i in range(largo_test):\n",
    "    x_array[i] = filtrar_relevante(x_array[i], por_eliminar)\n",
    "  return x_array"
   ]
  },
  {
   "cell_type": "code",
   "execution_count": 10,
   "metadata": {
    "colab": {},
    "colab_type": "code",
    "id": "kVifRE33sxqN"
   },
   "outputs": [],
   "source": [
    "# Para hacer un ejemplo más sencillo de entender\n",
    "# Selecionaremos solo las primeras 7 clases\n",
    "\n",
    "def reducir_labels(data_array, labels, k=7):\n",
    "  \"\"\"\n",
    "  Filtramos los documentos que pertenezcan a las primeras k clases\n",
    "  Retornamos el arreglo con los documentos y sus correspondientes labels\n",
    "  \"\"\"\n",
    "\n",
    "  retorno, retorno_labels = list(), list()\n",
    "  for i in range(len(data_array)):\n",
    "    if labels[i] < k:\n",
    "      retorno.append(data_array[i])\n",
    "      retorno_labels.append(labels[i])\n",
    "  return np.array(retorno), retorno_labels"
   ]
  },
  {
   "cell_type": "markdown",
   "metadata": {
    "colab_type": "text",
    "id": "dTEMF7ZhSrYl"
   },
   "source": [
    "# NMF Jerárquico"
   ]
  },
  {
   "cell_type": "code",
   "execution_count": 17,
   "metadata": {
    "colab": {},
    "colab_type": "code",
    "id": "9slMc7UPuZPW"
   },
   "outputs": [],
   "source": [
    "def rank2(A, W):\n",
    "  \"\"\"\n",
    "  Recibe las matrices objetivo A y su matriz izquierda W\n",
    "  Calcula la resolución iterativa de la minimización según el paper\n",
    "  y obtenemos la minimización de H a partir de W\n",
    "  Retorna las matrices W, H de las descomposición\n",
    "  \"\"\"\n",
    "  m, n = np.shape(A)\n",
    "\n",
    "  # resolvemos por minimos cuadrados\n",
    "  H = np.linalg.solve(np.dot(np.transpose(W), W), np.dot(np.transpose(W), A))\n",
    "\n",
    "  # Separamos en columnas\n",
    "  w1, w2 = W[:, 0], W[:, 1]\n",
    "  beta1, beta2 = np.linalg.norm(w1), np.linalg.norm(w2)\n",
    "\n",
    "  # normalizamos\n",
    "  u, v = np.dot(np.transpose(A), w1)/beta1, np.dot(np.transpose(A), w2)/beta2\n",
    "\n",
    "  for j in range(n):\n",
    "    # Para cada vector determinamos si cumple con la solucion\n",
    "    retorno_j = np.zeros(2)\n",
    "    if (H[:, j] >= 0).all():\n",
    "      continue\n",
    "    elif u[j]*beta1 >= v[j]*beta2:\n",
    "      retorno_j[0] = u[j]\n",
    "    else:\n",
    "      retorno_j[1] = v[j]\n",
    "    H[:, j] = retorno_j\n",
    "  return W, H\n",
    "\n",
    "\n",
    "def NMF_rank2(A, W=None, H=None, k=2, **kwargs):\n",
    "  \"\"\"\n",
    "  Recibe la matriz objetivo y matrices iniciales\n",
    "  Se realiza dos veces la minimización primero para H\n",
    "  y luego para W\n",
    "  Retorna la descomposición W, H de baja calidad\n",
    "  \"\"\"\n",
    "  m, n = np.shape(A)\n",
    "\n",
    "  # Iniciamos las matrices\n",
    "  if W is None:\n",
    "    W = np.random.rand(m, k)\n",
    "\n",
    "  if H is None:\n",
    "    H = np.zeros((k, n))\n",
    "  \n",
    "  # Realizamos las minimizaciones\n",
    "  W, H = rank2(A, W)\n",
    "  HT, WT = rank2(np.transpose(A), np.transpose(H))\n",
    "  # Retornamos los valores que resultaron minimizados\n",
    "  return np.transpose(WT), np.transpose(HT)"
   ]
  },
  {
   "cell_type": "code",
   "execution_count": 18,
   "metadata": {
    "colab": {},
    "colab_type": "code",
    "id": "Gu4Uze6DOUOW"
   },
   "outputs": [],
   "source": [
    "def calculo_NMF(A, max_iteraciones=15, k=2, W=None, H=None, error=0.5):\n",
    "  \"\"\"\n",
    "  Recibe la matriz objetivo A, dimension k,\n",
    "  máximo de iteraciones y matrices iniciales\n",
    "  Realiza de forma recursiva la aplicación de rank-2\n",
    "  para así obtener una mejor aproximación\n",
    "  Retorna los elementos W, H que aproximan A\n",
    "  al alcanzar una cota de error o superar el maximo\n",
    "  \"\"\"\n",
    "  # Inicializamos las matrices\n",
    "  m, n = np.shape(A)\n",
    "  if W is None:\n",
    "    W = np.random.rand(m, k)\n",
    "\n",
    "  for i in range(max_iteraciones):\n",
    "    W, H = rank2(A, W)\n",
    "    HT, WT = rank2(np.transpose(A), np.transpose(H))\n",
    "    W, H = np.transpose(WT), np.transpose(HT)\n",
    "    if (np.linalg.norm(A - np.dot(W, H))) < error: break\n",
    "  return W, H"
   ]
  },
  {
   "cell_type": "code",
   "execution_count": 19,
   "metadata": {
    "colab": {},
    "colab_type": "code",
    "id": "F2AEFL66POis"
   },
   "outputs": [],
   "source": [
    "def normalizar_descomposicion(W, H):\n",
    "  \"\"\"\n",
    "  Normaliza las columnas de W y pondera respectivamente\n",
    "  las filas de H para el resultado esperado\n",
    "  \"\"\"\n",
    "\n",
    "  for j in range(2):\n",
    "    norma = np.linalg.norm(W[:, j])\n",
    "    W[:, j] = W[:, j]/norma\n",
    "    H[j, :] = H[j, :]*norma\n",
    "  return W, H\n",
    "\n",
    "\n",
    "def calcular_descomposicion(A_matrix, max_iteraciones=15, max_intentos=10):\n",
    "  \"\"\"\n",
    "  Recibe matriz objetivo, cantidad maxima iteraciones e intentos de calcular\n",
    "  Calcula la descomposición rank-2 de forma reiterativa\n",
    "  Si el i-esimo intento alcanza la cota\n",
    "  se retorna la descomposición W, H\n",
    "  \"\"\"\n",
    "  salida, excepcion = False, False\n",
    "  for i in range(max_intentos):\n",
    "    try:\n",
    "      W, H = calculo_NMF(A_matrix, max_iteraciones, k=2, W=None, H=None)\n",
    "      error = np.linalg.norm(np.dot(W, H) - A_matrix)\n",
    "      if error < 60:\n",
    "        salida = True\n",
    "    except:\n",
    "      excepcion = True\n",
    "    else:\n",
    "      if not excepcion and salida:\n",
    "        return normalizar_descomposicion(W, H)"
   ]
  },
  {
   "cell_type": "markdown",
   "metadata": {},
   "source": [
    "### Interpretar arbol jerarquico"
   ]
  },
  {
   "cell_type": "code",
   "execution_count": 20,
   "metadata": {
    "colab": {},
    "colab_type": "code",
    "id": "XVZ4E3og0I0E"
   },
   "outputs": [],
   "source": [
    "def idx_plbs(arreglo):\n",
    "  \"\"\"\n",
    "  Recibe un arreglo de palabras\n",
    "  Genera un diccionario con los detalles de la palabra\n",
    "  retornando una lista ordenada según relevancia\n",
    "  \"\"\"\n",
    "  largo = len(arreglo)\n",
    "  retorno = list({'word': i, 'value': arreglo[i]} for i in range(largo))\n",
    "  retorno = sorted(retorno, key=lambda x: x['value'], reverse=True)\n",
    "\n",
    "  for i in range(largo):\n",
    "    retorno[i]['id'] = i\n",
    "  return retorno\n",
    "\n",
    "def generar_arrays(array_N, array_L, array_R):\n",
    "  \"\"\"\n",
    "  Recibe los arreglos para poder dividir\n",
    "  Retorna los arreglos ordenados según relevancia de sus palabras\n",
    "  \"\"\"\n",
    "  return idx_plbs(array_N), idx_plbs(array_L), idx_plbs(array_R)"
   ]
  },
  {
   "cell_type": "code",
   "execution_count": 21,
   "metadata": {
    "colab": {},
    "colab_type": "code",
    "id": "0iVS2CBb3-YI"
   },
   "outputs": [],
   "source": [
    "def factor_descuento(word, array_L, array_R):\n",
    "  \"\"\"\n",
    "  Recibe los arreglos y la palabra para la cual\n",
    "  se va a calcular su descuento\n",
    "  Retorna el descuento de la palabra\n",
    "  \"\"\"\n",
    "\n",
    "  fi_L = next(x for x in array_L if x['word'] == word)\n",
    "  fi_R = next(x for x in array_R if x['word'] == word)  \n",
    "  return np.log2(len(array_L) - max(fi_L['id'], fi_R['id']) + 1)\n",
    "\n",
    "\n",
    "def ganancia_palabra(word, array_N, array_L, array_R):\n",
    "  \"\"\"\n",
    "  Recibe los arreglos y la palabra de la que se quiere obtener su ganancia\n",
    "  Retorna la ganancia de la palabra\n",
    "  \"\"\"\n",
    "  \n",
    "  descuento = factor_descuento(word, array_L, array_R)\n",
    "  elemento = next(x for x in array_N if x['word'] == word)\n",
    "  return np.log2(len(array_L) - elemento['id'] + 1)/descuento\n",
    "\n",
    "\n",
    "def ganancias(array_N, array_L, array_R):\n",
    "  \"\"\"\n",
    "  Calcula la ganancia del arreglo\n",
    "  Retorna el arreglo de las ganancias y ordenada según ganancia\n",
    "  \"\"\"\n",
    "  retorno = list()\n",
    "  for word in range(len(array_N)):\n",
    "    gan_actual = ganancia_palabra(word, array_N, array_L, array_R)\n",
    "    retorno.append({'palabra': word, 'ganancia': gan_actual})\n",
    "  \n",
    "  return retorno, sorted(retorno, key=lambda x: x['ganancia'], reverse=True)"
   ]
  },
  {
   "cell_type": "code",
   "execution_count": 22,
   "metadata": {
    "colab": {},
    "colab_type": "code",
    "id": "bkS5BLqhGJuf"
   },
   "outputs": [],
   "source": [
    "def MDCG(gan_array):\n",
    "  \"\"\"\n",
    "  Calculo de MDCG según el array que se entregue\n",
    "  Retorna el valor de ganancia\n",
    "  \"\"\"\n",
    "  largo = len(gan_array)\n",
    "  elementos = list(gan_array[i]['ganancia']/np.log2(i+1) for i in range(1, largo))\n",
    "  return gan_array[0]['ganancia'] + sum(elementos)\n",
    "\n",
    "\n",
    "def mNDCG(gan_array, gan_sort):\n",
    "  \"\"\"\n",
    "  Calculo del puntaje a través de los arrays listos\n",
    "  \"\"\"\n",
    "  return MDCG(gan_array)/MDCG(gan_sort)\n",
    "\n",
    "\n",
    "def puntaje(f_N, f_L, f_R):\n",
    "  \"\"\"\n",
    "  Calcula el puntaje de la descomposición NMF actual\n",
    "  Retorna el valor que nos ayuda a decidir\n",
    "  \"\"\"\n",
    "  gan, gan_sort = ganancias(*generar_arrays(f_N, f_L, f_R))\n",
    "  return mNDCG(gan, gan_sort)**2"
   ]
  },
  {
   "cell_type": "code",
   "execution_count": 23,
   "metadata": {
    "colab": {},
    "colab_type": "code",
    "id": "42-U4DSMNT_b"
   },
   "outputs": [],
   "source": [
    "def elem_puntaje(A_matrix, L_matrix, R_matrix):\n",
    "  \"\"\"\n",
    "  Calcula la descomposición NMF de A (nodo)\n",
    "  y de sus posibles hijos\n",
    "  Retorna los elementos necesarios para determinar si conviene\n",
    "  \"\"\"\n",
    "\n",
    "  condicion = False\n",
    "  while not condicion:\n",
    "    try:\n",
    "      W, H = calcular_descomposicion(A_matrix)\n",
    "      WL, HL = calcular_descomposicion(L_matrix)\n",
    "      WR, HR = calcular_descomposicion(R_matrix)\n",
    "      condicion = True\n",
    "    except:\n",
    "      condicion = False\n",
    "    else:\n",
    "      if condicion:\n",
    "        return W, H, WL, HL, WR, HR\n",
    "\n",
    "def calculo_puntajes(W, H, WL, HL, WR, HR, i):  \n",
    "  \"\"\"\n",
    "  Calcula el puntaje de los hijos del nodo\n",
    "  a partir de los \n",
    "  \"\"\"\n",
    "  X = W[:, i].copy()\n",
    "\n",
    "  puntaje_N1 = puntaje(X, WL[:, 0], WL[:, 1])\n",
    "  puntaje_N2 = puntaje(X, WR[:, 0], WR[:, 1])\n",
    "\n",
    "  return puntaje_N1, puntaje_N2\n",
    "\n",
    "\n",
    "def puntajes_hijos(A, L, R):\n",
    "  \"\"\"\n",
    "  Genera el calculo del puntaje a partir de los\n",
    "  elementos necesario a partir del nodo\n",
    "  \"\"\"\n",
    "  # W, H, WL, HL, WR, HR = elem_puntaje(A, L, R)\n",
    "  return calculo_puntajes(*elem_puntaje(A, L, R), 0)\n",
    "  "
   ]
  },
  {
   "cell_type": "code",
   "execution_count": 24,
   "metadata": {
    "colab": {},
    "colab_type": "code",
    "id": "rjhkLjQoaOVE"
   },
   "outputs": [],
   "source": [
    "def agregar_columna(A, columna):\n",
    "  \"\"\"\n",
    "  Agrega columna a la matriz A sin importar su contenido\n",
    "  Retorna la matriz con la columna añadida\n",
    "  \"\"\"\n",
    "  if A is None:\n",
    "    A = np.zeros((len(columna), 1))\n",
    "    A[:, 0] = columna\n",
    "  else:\n",
    "    A = np.column_stack((A,columna))\n",
    "  return A\n",
    "\n",
    "\n",
    "def split_matrix(A_matrix, W, H):\n",
    "  \"\"\"\n",
    "  Separación de la matriz por contenido\n",
    "  Retorna la separación en dos matrices\n",
    "  \"\"\"\n",
    "  m, n = np.shape(A_matrix)\n",
    "\n",
    "  A1, A2 = None, None\n",
    "\n",
    "  for j in range(n):\n",
    "    if H[0][j] > H [1][j]:\n",
    "      A1 = agregar_columna(A1, A_matrix[:, j])\n",
    "    else:\n",
    "      A2 = agregar_columna(A2, A_matrix[:, j])\n",
    "\n",
    "  if A1.shape[1] >= A2.shape[1]:\n",
    "    return A1, A2\n",
    "  return A2, A1\n"
   ]
  },
  {
   "cell_type": "markdown",
   "metadata": {
    "colab_type": "text",
    "id": "vhzFR8xYf5fq"
   },
   "source": [
    "# Parte final\n",
    "\n",
    "Vamos a generar un arreglo que contenga la estructura de nuestro arbol\n",
    "* Será un ejemplo sencillo por lo que usaremos pocos nodos\n",
    "* Usamos un arreglo para los nodos generado\n",
    "* Retornaría este arreglo que describe la estructura"
   ]
  },
  {
   "cell_type": "code",
   "execution_count": 25,
   "metadata": {
    "colab": {},
    "colab_type": "code",
    "id": "1fbk-HUhf4-I"
   },
   "outputs": [],
   "source": [
    "# Variables globales\n",
    "\n",
    "numero_nodos = 7 # cantidad nodos para crear\n",
    "beta = 1.1 # diferencia de tamaño mínima que habrá entre los nodos"
   ]
  },
  {
   "cell_type": "code",
   "execution_count": 26,
   "metadata": {
    "colab": {},
    "colab_type": "code",
    "id": "BJgG4CuvgyXS"
   },
   "outputs": [],
   "source": [
    "def seleccionar_nodo(lista_nodos):\n",
    "  \"\"\"\n",
    "  Recibe el arreglo de los nodos de la estructura\n",
    "  Calcula cual nodo es conveniente separar y lo retorna\n",
    "  \"\"\"\n",
    "  if len(lista_nodos) == 1:\n",
    "    return lista_nodos[0]\n",
    "  lista_nodos = sorted(lista_nodos,\n",
    "                       key = lambda i: i['puntaje'],\n",
    "                       reverse=True)\n",
    "  return lista_nodos[1]\n",
    "\n",
    "def menor_puntaje(lista_nodos, puntaje_N2):\n",
    "  \"\"\"\n",
    "  Determina si el puntaje actual es el\n",
    "  menor comparando con todos los nodos\n",
    "  Retorna bool si conviene hacer split a ese nodo\n",
    "  \"\"\"\n",
    "  for elemento in lista_nodos:\n",
    "    if elemento['puntaje'] <= puntaje_N2:\n",
    "      return False\n",
    "  return True"
   ]
  },
  {
   "cell_type": "code",
   "execution_count": 27,
   "metadata": {
    "colab": {},
    "colab_type": "code",
    "id": "ZdxgV1Pf1S3p"
   },
   "outputs": [],
   "source": [
    "def arreglo_palabras(W, i):\n",
    "  \"\"\"\n",
    "  Genera el arreglo de las palabras de la columna i\n",
    "  Retorna arreglo diccionarios con los datos ordenados\n",
    "  \"\"\"\n",
    "\n",
    "  entradas = ['idx', 'value']\n",
    "  distribucion, retorno = W[:, i], list()\n",
    "  for item in enumerate(distribucion):\n",
    "    retorno.append(dict(zip(entradas, item)))\n",
    "  return sorted(retorno, key=lambda i: i['value'], reverse=True)"
   ]
  },
  {
   "cell_type": "markdown",
   "metadata": {},
   "source": [
    "## Funciones por cambiar"
   ]
  },
  {
   "cell_type": "code",
   "execution_count": 28,
   "metadata": {
    "colab": {},
    "colab_type": "code",
    "id": "ay6OAWxusg3o"
   },
   "outputs": [],
   "source": [
    "def encontrar_significado(arreglo):\n",
    "  \"\"\"\n",
    "  Recibe el arreglo de indices de palabras\n",
    "  Retorna los elementos con atributo word que es el significado\n",
    "  \"\"\"\n",
    "  for i in range(len(arreglo)):\n",
    "    arreglo[i]['word'] = index_to_word[arreglo[i]['idx'] + 4]\n",
    "  return arreglo\n",
    "\n",
    "def palabras_destacadas(W, cantidad=3):\n",
    "  n = int(np.round(cantidad/2))+1\n",
    "  arreglo_1 = encontrar_significado(arreglo_palabras(W, 0)[:n])\n",
    "  arreglo_2 = encontrar_significado(arreglo_palabras(W, 1)[:n])\n",
    "  arreglo_1.extend(arreglo_2)\n",
    "  return arreglo_1"
   ]
  },
  {
   "cell_type": "code",
   "execution_count": 29,
   "metadata": {
    "colab": {},
    "colab_type": "code",
    "id": "sQzkWiA8f2yg"
   },
   "outputs": [],
   "source": [
    "def jerarquizacion(A_matrix):\n",
    "  \"\"\"\n",
    "  Genera la estructura de jerarquía realizando\n",
    "  descomposiciones NMF de forma recursiva\n",
    "  Retorna la estructura \n",
    "  \"\"\"\n",
    "\n",
    "  outliner = None\n",
    "  lista_nodos = list()\n",
    "\n",
    "  primer_nodo = {\n",
    "    'id': 0,\n",
    "    'parent': None,\n",
    "    'matrix': A_matrix,\n",
    "    'puntaje': 1,\n",
    "    'shape': A_matrix.shape,\n",
    "  }\n",
    "\n",
    "  lista_nodos.append(primer_nodo)\n",
    "\n",
    "  for i in range(1, numero_nodos, 2):\n",
    "    M = seleccionar_nodo(lista_nodos)\n",
    "    W, H = calcular_descomposicion(M['matrix'])\n",
    "    M['W'], M['H'] = W, H\n",
    "    N1, N2 = split_matrix(M['matrix'], W, H)\n",
    "    puntaje_N1, puntaje_N2 = puntajes_hijos(M['matrix'], N1, N2)\n",
    "    \n",
    "    N1_nodo = {\n",
    "    'id': i+1,\n",
    "    'parent': M['id'],\n",
    "    'matrix': N1,\n",
    "    'puntaje': puntaje_N1,\n",
    "    'shape': N1.shape,\n",
    "    'hijos': None\n",
    "    }\n",
    "\n",
    "    N2_nodo = {\n",
    "    'id': i+2,\n",
    "    'parent': M['id'],\n",
    "    'matrix': N2,\n",
    "    'puntaje': puntaje_N2,\n",
    "    'shape': N2.shape,\n",
    "    'hijos': None\n",
    "    }\n",
    "\n",
    "    M['hijos'] = [i+1, i+2, ]\n",
    "\n",
    "    lista_nodos.append(N1_nodo)\n",
    "    lista_nodos.append(N2_nodo)\n",
    "\n",
    "  return lista_nodos"
   ]
  },
  {
   "cell_type": "code",
   "execution_count": 30,
   "metadata": {
    "colab": {
     "base_uri": "https://localhost:8080/"
    },
    "colab_type": "code",
    "id": "IPf2qvqkVBtc",
    "outputId": "75ee4779-3c94-44ca-9517-42be9ffb01e2"
   },
   "outputs": [],
   "source": [
    "def matriz_W_lista(lista_nodos):\n",
    "  for nodo in lista_nodos:\n",
    "    if 'W' not in nodo.keys():\n",
    "      nodo['W'], nodo['H'] = calcular_descomposicion(nodo['matrix'])\n",
    "  return lista_nodos\n",
    "\n",
    "\n",
    "def limpiar_lista(lista_nodos):\n",
    "  elementos = ['matrix', 'W', 'H']\n",
    "  new_list = [{k: v for k, v in d.items() if k not in elementos} for d in lista_nodos]\n",
    "  return new_list"
   ]
  }
 ],
 "metadata": {
  "colab": {
   "collapsed_sections": [],
   "name": "Reuters.ipynb",
   "provenance": []
  },
  "kernelspec": {
   "display_name": "Python 3",
   "language": "python",
   "name": "python3"
  },
  "language_info": {
   "codemirror_mode": {
    "name": "ipython",
    "version": 3
   },
   "file_extension": ".py",
   "mimetype": "text/x-python",
   "name": "python",
   "nbconvert_exporter": "python",
   "pygments_lexer": "ipython3",
   "version": "3.6.9"
  }
 },
 "nbformat": 4,
 "nbformat_minor": 1
}
