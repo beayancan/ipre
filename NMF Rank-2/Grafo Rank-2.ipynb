{
 "cells": [
  {
   "cell_type": "markdown",
   "metadata": {},
   "source": [
    "# Grafos\n",
    "\n",
    "## Herramientas\n",
    "\n",
    "Para realizar los gráficos vamos a utilizar la librería `graphviz`. El paquete puede instalarse como\n",
    "\n",
    "```\n",
    "pip install graphviz\n",
    "```\n",
    "\n",
    "Además, para generar los graficos es necesario el interprete de  **DOT**, el cual es un lenguaje descriptivo en texto plano. Proporciona una forma simple de describir grafos, se puede instalar como\n",
    "\n",
    "```\n",
    "apt-get install dot\n",
    "```\n",
    "\n",
    "revisamos sus versiones con\n",
    "\n",
    "```\n",
    "pip show graphviz & dot --version\n",
    "```"
   ]
  },
  {
   "cell_type": "code",
   "execution_count": 134,
   "metadata": {},
   "outputs": [],
   "source": [
    "from IPython.display import display\n",
    "from graphviz import Digraph, nohtml\n",
    "import json"
   ]
  },
  {
   "cell_type": "code",
   "execution_count": 135,
   "metadata": {},
   "outputs": [],
   "source": [
    "def agregar_palabras(grafo, elemento):\n",
    "  x = list(elemento['destacadas'].keys())\n",
    "  largo = len(x)\n",
    "  retorno = ''\n",
    "  for i in range(0, largo, 2):\n",
    "    a, b = i, i+1\n",
    "    actual = f'<w{a}> {x[a]} | <w{b}> {x[b]}'\n",
    "    retorno += '{ ' + actual + ' }'\n",
    "    if b < largo-1:\n",
    "      retorno += ' | '\n",
    "  grafo.node(f\"node{elemento['id']}\", nohtml(retorno))\n",
    "\n",
    "def generar_grafico(lista_nodos):\n",
    "  dot = Digraph(node_attr={'color': 'lightblue2',\n",
    "                         'style': 'filled',\n",
    "                         'shape': 'record',\n",
    "                         'height': '.1',\n",
    "                         'label':\"Curve edges\"})\n",
    "                         #splines=ortho,\n",
    "                         #nodesep=0.8\n",
    "      \n",
    "  for cosa in lista_nodos:\n",
    "    agregar_palabras(dot, cosa)\n",
    "    largo = len(cosa['destacadas'])\n",
    "    if cosa['parent']:\n",
    "\n",
    "      if (largo/2) % 2 == 1:\n",
    "        p = int( (len(cosa['destacadas'])/2 + 1)/2)\n",
    "        dot.edge(f\"node{cosa['parent']}:w{p+1}\", f\"node{cosa['id']}:w{p}\")\n",
    "      else:\n",
    "        dot.edge(f\"node{cosa['parent']}\", f\"node{cosa['id']}\")\n",
    "\n",
    "  display(dot)\n",
    "  \n",
    "def obtener_palabras(url=None):\n",
    "  if url is None:\n",
    "    url = './reuters.json'\n",
    "  with open(url, \"r\") as read_file:\n",
    "    lista_reuters = json.load(read_file)\n",
    "\n",
    "  return lista_reuters"
   ]
  },
  {
   "cell_type": "code",
   "execution_count": 1,
   "metadata": {},
   "outputs": [],
   "source": [
    "def agregar_palabras(grafo, elemento):\n",
    "  x = list(elemento['destacadas'].keys())\n",
    "  if len(x)%2 == 1:\n",
    "    x = x[:-1]\n",
    "  largo = len(x)\n",
    "  retorno = ''\n",
    "  for i in range(0, largo, 2):\n",
    "    a, b = i, i+1\n",
    "    actual = f'<w{a}> {x[a]} | <w{b}> {x[b]}'\n",
    "    retorno += '{ ' + actual + ' }'\n",
    "    if b < largo-1:\n",
    "      retorno += ' | '\n",
    "  grafo.node(f\"node{elemento['id']}\", nohtml(retorno))\n",
    "\n",
    "def generar_grafico(lista_nodos):\n",
    "  dot = Digraph(node_attr={'color': 'lightblue2',\n",
    "                         'style': 'filled',\n",
    "                         'shape': 'record',\n",
    "                         'height': '.1',\n",
    "                         'label':\"Curve edges\"})\n",
    "                         #splines=ortho,\n",
    "                         #nodesep=0.8\n",
    "      \n",
    "  for cosa in lista_nodos:\n",
    "    agregar_palabras(dot, cosa)\n",
    "    if len(cosa['destacadas'])%2 == 1:\n",
    "      largo = len(list(cosa['destacadas'])[:-1])/2\n",
    "    else:\n",
    "      largo = len(cosa['destacadas'])/2\n",
    "    if cosa['parent']:\n",
    "      if largo // 2 == 1:\n",
    "        p = int( (largo + 1)/2)\n",
    "        dot.edge(f\"node{cosa['parent']}:w{p+1}\", f\"node{cosa['id']}:w{p}\")\n",
    "      else:\n",
    "        dot.edge(f\"node{cosa['parent']}\", f\"node{cosa['id']}\")\n",
    "\n",
    "  #display(dot)\n",
    "  dot.view('Reuters_1.gv')"
   ]
  },
  {
   "cell_type": "code",
   "execution_count": 2,
   "metadata": {},
   "outputs": [
    {
     "ename": "NameError",
     "evalue": "name 'obtener_palabras' is not defined",
     "output_type": "error",
     "traceback": [
      "\u001b[0;31m---------------------------------------------------------------------------\u001b[0m",
      "\u001b[0;31mNameError\u001b[0m                                 Traceback (most recent call last)",
      "\u001b[0;32m<ipython-input-2-09463610c029>\u001b[0m in \u001b[0;36m<module>\u001b[0;34m\u001b[0m\n\u001b[0;32m----> 1\u001b[0;31m \u001b[0mlista_reuters\u001b[0m \u001b[0;34m=\u001b[0m \u001b[0mobtener_palabras\u001b[0m\u001b[0;34m(\u001b[0m\u001b[0;34m)\u001b[0m\u001b[0;34m\u001b[0m\u001b[0;34m\u001b[0m\u001b[0m\n\u001b[0m",
      "\u001b[0;31mNameError\u001b[0m: name 'obtener_palabras' is not defined"
     ]
    }
   ],
   "source": [
    "lista_reuters = obtener_palabras()"
   ]
  },
  {
   "cell_type": "code",
   "execution_count": 3,
   "metadata": {},
   "outputs": [
    {
     "ename": "NameError",
     "evalue": "name 'lista_reuters' is not defined",
     "output_type": "error",
     "traceback": [
      "\u001b[0;31m---------------------------------------------------------------------------\u001b[0m",
      "\u001b[0;31mNameError\u001b[0m                                 Traceback (most recent call last)",
      "\u001b[0;32m<ipython-input-3-9abfcc4a9f46>\u001b[0m in \u001b[0;36m<module>\u001b[0;34m\u001b[0m\n\u001b[0;32m----> 1\u001b[0;31m \u001b[0mgenerar_grafico\u001b[0m\u001b[0;34m(\u001b[0m\u001b[0mlista_reuters\u001b[0m\u001b[0;34m)\u001b[0m\u001b[0;34m\u001b[0m\u001b[0;34m\u001b[0m\u001b[0m\n\u001b[0m",
      "\u001b[0;31mNameError\u001b[0m: name 'lista_reuters' is not defined"
     ]
    }
   ],
   "source": [
    "generar_grafico(lista_reuters)"
   ]
  },
  {
   "cell_type": "code",
   "execution_count": 139,
   "metadata": {},
   "outputs": [
    {
     "name": "stdout",
     "output_type": "stream",
     "text": [
      "True\n"
     ]
    }
   ],
   "source": [
    "palabra = '14'\n",
    "print(palabra[0] in ['0', '1', '2'])"
   ]
  },
  {
   "cell_type": "code",
   "execution_count": null,
   "metadata": {},
   "outputs": [],
   "source": []
  }
 ],
 "metadata": {
  "kernelspec": {
   "display_name": "Python 3",
   "language": "python",
   "name": "python3"
  },
  "language_info": {
   "codemirror_mode": {
    "name": "ipython",
    "version": 3
   },
   "file_extension": ".py",
   "mimetype": "text/x-python",
   "name": "python",
   "nbconvert_exporter": "python",
   "pygments_lexer": "ipython3",
   "version": "3.6.9"
  }
 },
 "nbformat": 4,
 "nbformat_minor": 4
}
